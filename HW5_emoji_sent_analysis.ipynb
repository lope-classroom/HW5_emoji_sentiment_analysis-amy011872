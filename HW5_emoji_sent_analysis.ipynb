{
  "cells": [
    {
      "cell_type": "markdown",
      "metadata": {
        "id": "xsOzLb9nJaZ7"
      },
      "source": [
        "這次我們分析「帶有 emoji 的text 」的情緒，以及哪些 「emoji 本身情緒」會不同於它「所在 text 的情緒」。\n",
        "\n",
        "作業分成 3 個部分，分別是前處理、情緒分析、情緒衝突的emoji詞頻。\n",
        "\n",
        "**`每一部分皆有需呈現的結果`** ，繳交之前請確認每個部分的每個配分項目都有output 😉\n",
        "\n"
      ]
    },
    {
      "cell_type": "markdown",
      "source": [
        "\n",
        "\n",
        "---\n",
        "\n"
      ],
      "metadata": {
        "id": "GTaxiiyWp7jT"
      }
    },
    {
      "cell_type": "markdown",
      "metadata": {
        "id": "MB5gPwrN7nXa"
      },
      "source": [
        "# 第一部分：前處理"
      ]
    },
    {
      "cell_type": "markdown",
      "metadata": {
        "id": "ttFVAI3EJaZ_"
      },
      "source": [
        "1. 讀取語料 `emoji_1000.csv` ，並用 `emoji module` 將每一句文本出現的 emoji 轉成英文解釋 (demojize)\n",
        "\n",
        "2. 讀取 emoji 解釋對應表 `emoji_defintion.csv` ，並將 **前一步的英文解釋** 轉換成繁體中文。\n",
        "   \n",
        "   ⚠️注意：emoji 的英文解釋前後都有冒號，轉換成中文後，用**底線**將 emoji 連接在**句尾**⚠️\n",
        "\n",
        "   ```\n",
        "    \"看的真的是又愛又虐😍\"\n",
        "   會先變成：看的真的是又愛又虐:smiling_face_with_heart-eyes: \n",
        "   再變成：看的真的是又愛又虐_心眼笑臉    \n",
        "   \n",
        "   \"🌟天婦羅（時蔬）\"\n",
        "   會先變成： 天婦羅（時蔬）:glowing_star:\n",
        "   再變成： 天婦羅（時蔬）_發光的星星\n",
        "   ```\n",
        "\n",
        "3. 請整理你的資料做出一個 df，依照下方範例的欄位名稱來命名，**顯示出 df[202:207]**\n",
        "\n",
        "   ⚠️注意：不要顯示 df.head() ❌❌❌\n",
        "\n",
        "   ⚠️注意：當一個句子有多個 emoji 時，請以半型逗號連結成string，再將這個string放入 emoji_only 欄（參考下方範例中 id 205 的句子）\n",
        "\n",
        "\n",
        "> 配分方式\n",
        "- step 1.  (10%)\n",
        "- step 2. (10%)\n",
        "- step 3. (20%)  df[202:207]"
      ]
    },
    {
      "cell_type": "code",
      "execution_count": null,
      "metadata": {
        "id": "FNTZ_uWyAFmC"
      },
      "outputs": [],
      "source": [
        "## emoji module\n",
        "%pip install emoji --upgrade"
      ]
    },
    {
      "cell_type": "code",
      "execution_count": null,
      "metadata": {
        "colab": {
          "base_uri": "https://localhost:8080/",
          "height": 206
        },
        "id": "FatUO7CbCb-h",
        "outputId": "c625a3d0-2189-4e90-ad21-f2f63771fe2e"
      },
      "outputs": [
        {
          "data": {
            "text/html": [
              "<div>\n",
              "<style scoped>\n",
              "    .dataframe tbody tr th:only-of-type {\n",
              "        vertical-align: middle;\n",
              "    }\n",
              "\n",
              "    .dataframe tbody tr th {\n",
              "        vertical-align: top;\n",
              "    }\n",
              "\n",
              "    .dataframe thead th {\n",
              "        text-align: right;\n",
              "    }\n",
              "</style>\n",
              "<table border=\"1\" class=\"dataframe\">\n",
              "  <thead>\n",
              "    <tr style=\"text-align: right;\">\n",
              "      <th></th>\n",
              "      <th>sentence</th>\n",
              "      <th>text_only</th>\n",
              "      <th>emo_only</th>\n",
              "      <th>text_emoji</th>\n",
              "    </tr>\n",
              "  </thead>\n",
              "  <tbody>\n",
              "    <tr>\n",
              "      <th>202</th>\n",
              "      <td>我就突然啜泣哭了😭（我原本以為只會默默流眼淚</td>\n",
              "      <td>我就突然啜泣哭了（我原本以為只會默默流眼淚</td>\n",
              "      <td>大聲哭泣的臉</td>\n",
              "      <td>我就突然啜泣哭了（我原本以為只會默默流眼淚_大聲哭泣的臉</td>\n",
              "    </tr>\n",
              "    <tr>\n",
              "      <th>203</th>\n",
              "      <td>每次都說粗重的我來，妳在旁邊等😂</td>\n",
              "      <td>每次都說粗重的我來，妳在旁邊等</td>\n",
              "      <td>滿臉喜悅的淚水</td>\n",
              "      <td>每次都說粗重的我來，妳在旁邊等_滿臉喜悅的淚水</td>\n",
              "    </tr>\n",
              "    <tr>\n",
              "      <th>204</th>\n",
              "      <td>不見不散💕</td>\n",
              "      <td>不見不散</td>\n",
              "      <td>兩顆心</td>\n",
              "      <td>不見不散_兩顆心</td>\n",
              "    </tr>\n",
              "    <tr>\n",
              "      <th>205</th>\n",
              "      <td>放個假沒想到也換我發生悲劇了😭😭😭</td>\n",
              "      <td>放個假沒想到也換我發生悲劇了</td>\n",
              "      <td>大聲哭泣的臉, 大聲哭泣的臉, 大聲哭泣的臉</td>\n",
              "      <td>放個假沒想到也換我發生悲劇了_大聲哭泣的臉, 大聲哭泣的臉, 大聲哭泣的臉</td>\n",
              "    </tr>\n",
              "    <tr>\n",
              "      <th>206</th>\n",
              "      <td>希望照片妳滿意啦👊🏻</td>\n",
              "      <td>希望照片妳滿意啦</td>\n",
              "      <td>迎面而來的拳頭淺膚色</td>\n",
              "      <td>希望照片妳滿意啦_迎面而來的拳頭淺膚色</td>\n",
              "    </tr>\n",
              "  </tbody>\n",
              "</table>\n",
              "</div>"
            ],
            "text/plain": [
              "                   sentence              text_only                emo_only  \\\n",
              "202  我就突然啜泣哭了😭（我原本以為只會默默流眼淚  我就突然啜泣哭了（我原本以為只會默默流眼淚                  大聲哭泣的臉   \n",
              "203        每次都說粗重的我來，妳在旁邊等😂        每次都說粗重的我來，妳在旁邊等                 滿臉喜悅的淚水   \n",
              "204                   不見不散💕                   不見不散                     兩顆心   \n",
              "205       放個假沒想到也換我發生悲劇了😭😭😭         放個假沒想到也換我發生悲劇了  大聲哭泣的臉, 大聲哭泣的臉, 大聲哭泣的臉   \n",
              "206              希望照片妳滿意啦👊🏻               希望照片妳滿意啦              迎面而來的拳頭淺膚色   \n",
              "\n",
              "                                text_emoji  \n",
              "202           我就突然啜泣哭了（我原本以為只會默默流眼淚_大聲哭泣的臉  \n",
              "203                每次都說粗重的我來，妳在旁邊等_滿臉喜悅的淚水  \n",
              "204                               不見不散_兩顆心  \n",
              "205  放個假沒想到也換我發生悲劇了_大聲哭泣的臉, 大聲哭泣的臉, 大聲哭泣的臉  \n",
              "206                    希望照片妳滿意啦_迎面而來的拳頭淺膚色  "
            ]
          },
          "execution_count": 14,
          "metadata": {},
          "output_type": "execute_result"
        }
      ],
      "source": [
        "## 第一部分回答範例 df\n",
        "df[202:207]"
      ]
    },
    {
      "cell_type": "markdown",
      "source": [
        "\n",
        "\n",
        "---\n",
        "\n"
      ],
      "metadata": {
        "id": "ksLWcL_Tp92j"
      }
    },
    {
      "cell_type": "markdown",
      "metadata": {
        "id": "8Uf3ZJZm7b4j"
      },
      "source": [
        "# 第二部分：情緒分析"
      ]
    },
    {
      "cell_type": "markdown",
      "metadata": {
        "id": "8V15oM9XJaZ_"
      },
      "source": [
        "1. 跑完前處理後，我們會得到一個 df，每一列都是一句 text 的相關資料。\n",
        "\n",
        "2. 請完成以下 setup 的 block，載入並利用此 classifier，以 「欄位」為單位，分別跑 text_only, emo_only, text_emoji 三組的情緒分析。\n",
        "3. 成功跑出情緒分析結果後，請與原本的 df 合併，**顯示出一個 senti_df**，請依照下方 `回答範例 DataFrame` 來命名欄位。\n",
        "   \n",
        "   - text_only 的情緒分析結果 存在 text_senti 欄\n",
        "   - emo_only 的情緒分析結果 存在 emoji_senti 欄\t\n",
        "   - text_emoji 的情緒分析結果 存在 txt_emo_senti 欄\n",
        "\n",
        "\n",
        "3. 利用前一步做好的 df，分別輸出 (text_senti, emoji_senti)、(text_senti, txt_emo_senti)、(emoji_senti, txt_emo_senti) 的 contingency table，**總共3️⃣個** 。請參考下方範例 block。\n",
        "\n",
        "> 配分方式\n",
        "- DataFrame (25%)\n",
        "- contingency table (15%，每一個table 5%)"
      ]
    },
    {
      "cell_type": "code",
      "execution_count": null,
      "metadata": {
        "id": "LcxAU33K4NjE"
      },
      "outputs": [],
      "source": [
        "'''''\n",
        "Model source: https://huggingface.co/liam168/c2-roberta-base-finetuned-dianping-chinese/commit/952591d4ffb6df7b674eba74c4e2bb5dc9cb3128#d2h-611991\n",
        "'''''\n",
        "\n",
        "## 安裝模型\n",
        "!pip install transformers datasets\n",
        "\n",
        "## 載入模型 (請參考連結中的示範code)\n",
        "from transformers import AutoModelForSequenceClassification , AutoTokenizer, pipeline\n",
        "model_name = \"liam168/c2-roberta-base-finetuned-dianping-chinese\"\n",
        "class_num = 2\n",
        "model =\n",
        "tokenizer = \n",
        "\n",
        "## 載入classifier (請參考連結中的示範code)\n",
        "classifier = pipeline(       )\n"
      ]
    },
    {
      "cell_type": "code",
      "execution_count": null,
      "metadata": {
        "colab": {
          "base_uri": "https://localhost:8080/",
          "height": 285
        },
        "id": "O2wS97ySHmXI",
        "outputId": "9c21acc7-bcbc-418f-987a-b5a451d1a5e8"
      },
      "outputs": [
        {
          "data": {
            "text/html": [
              "\n",
              "  <div id=\"df-63d393b3-0b29-493d-9661-cdc543afa3eb\">\n",
              "    <div class=\"colab-df-container\">\n",
              "      <div>\n",
              "<style scoped>\n",
              "    .dataframe tbody tr th:only-of-type {\n",
              "        vertical-align: middle;\n",
              "    }\n",
              "\n",
              "    .dataframe tbody tr th {\n",
              "        vertical-align: top;\n",
              "    }\n",
              "\n",
              "    .dataframe thead th {\n",
              "        text-align: right;\n",
              "    }\n",
              "</style>\n",
              "<table border=\"1\" class=\"dataframe\">\n",
              "  <thead>\n",
              "    <tr style=\"text-align: right;\">\n",
              "      <th></th>\n",
              "      <th>sentence</th>\n",
              "      <th>text_only</th>\n",
              "      <th>emo_only</th>\n",
              "      <th>text_emoji</th>\n",
              "      <th>text_senti</th>\n",
              "      <th>emoji_senti</th>\n",
              "      <th>txt_emo_senti</th>\n",
              "    </tr>\n",
              "  </thead>\n",
              "  <tbody>\n",
              "    <tr>\n",
              "      <th>0</th>\n",
              "      <td>還你一個清爽暢通的寶鼻(⁎⁍̴̛ᴗ⁍̴̛⁎)！❤️</td>\n",
              "      <td>還你一個清爽暢通的寶鼻(⁎⁍̴̛ᴗ⁍̴̛⁎)！</td>\n",
              "      <td>紅心</td>\n",
              "      <td>還你一個清爽暢通的寶鼻(⁎⁍̴̛ᴗ⁍̴̛⁎)！_紅心</td>\n",
              "      <td>positive</td>\n",
              "      <td>negative</td>\n",
              "      <td>positive</td>\n",
              "    </tr>\n",
              "    <tr>\n",
              "      <th>1</th>\n",
              "      <td>為今日難吃的涼麵做個紀錄😤</td>\n",
              "      <td>為今日難吃的涼麵做個紀錄</td>\n",
              "      <td>臉上有蒸汽從鼻子裡冒出來</td>\n",
              "      <td>為今日難吃的涼麵做個紀錄_臉上有蒸汽從鼻子裡冒出來</td>\n",
              "      <td>negative</td>\n",
              "      <td>positive</td>\n",
              "      <td>negative</td>\n",
              "    </tr>\n",
              "    <tr>\n",
              "      <th>2</th>\n",
              "      <td>前幾天的照片真的慘不忍睹😂</td>\n",
              "      <td>前幾天的照片真的慘不忍睹</td>\n",
              "      <td>滿臉喜悅的淚水</td>\n",
              "      <td>前幾天的照片真的慘不忍睹_滿臉喜悅的淚水</td>\n",
              "      <td>negative</td>\n",
              "      <td>negative</td>\n",
              "      <td>negative</td>\n",
              "    </tr>\n",
              "    <tr>\n",
              "      <th>3</th>\n",
              "      <td>🌟天婦羅（時蔬）</td>\n",
              "      <td>天婦羅（時蔬）</td>\n",
              "      <td>發光的星星</td>\n",
              "      <td>天婦羅（時蔬）_發光的星星</td>\n",
              "      <td>negative</td>\n",
              "      <td>positive</td>\n",
              "      <td>negative</td>\n",
              "    </tr>\n",
              "    <tr>\n",
              "      <th>4</th>\n",
              "      <td>看的真的是又愛又虐😍</td>\n",
              "      <td>看的真的是又愛又虐</td>\n",
              "      <td>心眼笑臉</td>\n",
              "      <td>看的真的是又愛又虐_心眼笑臉</td>\n",
              "      <td>negative</td>\n",
              "      <td>positive</td>\n",
              "      <td>negative</td>\n",
              "    </tr>\n",
              "  </tbody>\n",
              "</table>\n",
              "</div>\n",
              "      <button class=\"colab-df-convert\" onclick=\"convertToInteractive('df-63d393b3-0b29-493d-9661-cdc543afa3eb')\"\n",
              "              title=\"Convert this dataframe to an interactive table.\"\n",
              "              style=\"display:none;\">\n",
              "        \n",
              "  <svg xmlns=\"http://www.w3.org/2000/svg\" height=\"24px\"viewBox=\"0 0 24 24\"\n",
              "       width=\"24px\">\n",
              "    <path d=\"M0 0h24v24H0V0z\" fill=\"none\"/>\n",
              "    <path d=\"M18.56 5.44l.94 2.06.94-2.06 2.06-.94-2.06-.94-.94-2.06-.94 2.06-2.06.94zm-11 1L8.5 8.5l.94-2.06 2.06-.94-2.06-.94L8.5 2.5l-.94 2.06-2.06.94zm10 10l.94 2.06.94-2.06 2.06-.94-2.06-.94-.94-2.06-.94 2.06-2.06.94z\"/><path d=\"M17.41 7.96l-1.37-1.37c-.4-.4-.92-.59-1.43-.59-.52 0-1.04.2-1.43.59L10.3 9.45l-7.72 7.72c-.78.78-.78 2.05 0 2.83L4 21.41c.39.39.9.59 1.41.59.51 0 1.02-.2 1.41-.59l7.78-7.78 2.81-2.81c.8-.78.8-2.07 0-2.86zM5.41 20L4 18.59l7.72-7.72 1.47 1.35L5.41 20z\"/>\n",
              "  </svg>\n",
              "      </button>\n",
              "      \n",
              "  <style>\n",
              "    .colab-df-container {\n",
              "      display:flex;\n",
              "      flex-wrap:wrap;\n",
              "      gap: 12px;\n",
              "    }\n",
              "\n",
              "    .colab-df-convert {\n",
              "      background-color: #E8F0FE;\n",
              "      border: none;\n",
              "      border-radius: 50%;\n",
              "      cursor: pointer;\n",
              "      display: none;\n",
              "      fill: #1967D2;\n",
              "      height: 32px;\n",
              "      padding: 0 0 0 0;\n",
              "      width: 32px;\n",
              "    }\n",
              "\n",
              "    .colab-df-convert:hover {\n",
              "      background-color: #E2EBFA;\n",
              "      box-shadow: 0px 1px 2px rgba(60, 64, 67, 0.3), 0px 1px 3px 1px rgba(60, 64, 67, 0.15);\n",
              "      fill: #174EA6;\n",
              "    }\n",
              "\n",
              "    [theme=dark] .colab-df-convert {\n",
              "      background-color: #3B4455;\n",
              "      fill: #D2E3FC;\n",
              "    }\n",
              "\n",
              "    [theme=dark] .colab-df-convert:hover {\n",
              "      background-color: #434B5C;\n",
              "      box-shadow: 0px 1px 3px 1px rgba(0, 0, 0, 0.15);\n",
              "      filter: drop-shadow(0px 1px 2px rgba(0, 0, 0, 0.3));\n",
              "      fill: #FFFFFF;\n",
              "    }\n",
              "  </style>\n",
              "\n",
              "      <script>\n",
              "        const buttonEl =\n",
              "          document.querySelector('#df-63d393b3-0b29-493d-9661-cdc543afa3eb button.colab-df-convert');\n",
              "        buttonEl.style.display =\n",
              "          google.colab.kernel.accessAllowed ? 'block' : 'none';\n",
              "\n",
              "        async function convertToInteractive(key) {\n",
              "          const element = document.querySelector('#df-63d393b3-0b29-493d-9661-cdc543afa3eb');\n",
              "          const dataTable =\n",
              "            await google.colab.kernel.invokeFunction('convertToInteractive',\n",
              "                                                     [key], {});\n",
              "          if (!dataTable) return;\n",
              "\n",
              "          const docLinkHtml = 'Like what you see? Visit the ' +\n",
              "            '<a target=\"_blank\" href=https://colab.research.google.com/notebooks/data_table.ipynb>data table notebook</a>'\n",
              "            + ' to learn more about interactive tables.';\n",
              "          element.innerHTML = '';\n",
              "          dataTable['output_type'] = 'display_data';\n",
              "          await google.colab.output.renderOutput(dataTable, element);\n",
              "          const docLink = document.createElement('div');\n",
              "          docLink.innerHTML = docLinkHtml;\n",
              "          element.appendChild(docLink);\n",
              "        }\n",
              "      </script>\n",
              "    </div>\n",
              "  </div>\n",
              "  "
            ],
            "text/plain": [
              "                    sentence                text_only      emo_only  \\\n",
              "0  還你一個清爽暢通的寶鼻(⁎⁍̴̛ᴗ⁍̴̛⁎)！❤️  還你一個清爽暢通的寶鼻(⁎⁍̴̛ᴗ⁍̴̛⁎)！            紅心   \n",
              "1              為今日難吃的涼麵做個紀錄😤             為今日難吃的涼麵做個紀錄  臉上有蒸汽從鼻子裡冒出來   \n",
              "2              前幾天的照片真的慘不忍睹😂             前幾天的照片真的慘不忍睹       滿臉喜悅的淚水   \n",
              "3                   🌟天婦羅（時蔬）                  天婦羅（時蔬）         發光的星星   \n",
              "4                 看的真的是又愛又虐😍                看的真的是又愛又虐          心眼笑臉   \n",
              "\n",
              "                   text_emoji text_senti emoji_senti txt_emo_senti  \n",
              "0  還你一個清爽暢通的寶鼻(⁎⁍̴̛ᴗ⁍̴̛⁎)！_紅心   positive    negative      positive  \n",
              "1   為今日難吃的涼麵做個紀錄_臉上有蒸汽從鼻子裡冒出來   negative    positive      negative  \n",
              "2        前幾天的照片真的慘不忍睹_滿臉喜悅的淚水   negative    negative      negative  \n",
              "3               天婦羅（時蔬）_發光的星星   negative    positive      negative  \n",
              "4              看的真的是又愛又虐_心眼笑臉   negative    positive      negative  "
            ]
          },
          "execution_count": 49,
          "metadata": {},
          "output_type": "execute_result"
        }
      ],
      "source": [
        "## 回答範例 DataFrame\n",
        "senti_df.head()"
      ]
    },
    {
      "cell_type": "code",
      "execution_count": null,
      "metadata": {
        "colab": {
          "base_uri": "https://localhost:8080/",
          "height": 143
        },
        "id": "BOS8VQSlJPcF",
        "outputId": "2b642932-703c-47b9-ec78-adae3b053d37"
      },
      "outputs": [
        {
          "data": {
            "text/html": [
              "\n",
              "  <div id=\"df-a8c0e1e9-72ae-4302-b70b-adbcdd25582a\">\n",
              "    <div class=\"colab-df-container\">\n",
              "      <div>\n",
              "<style scoped>\n",
              "    .dataframe tbody tr th:only-of-type {\n",
              "        vertical-align: middle;\n",
              "    }\n",
              "\n",
              "    .dataframe tbody tr th {\n",
              "        vertical-align: top;\n",
              "    }\n",
              "\n",
              "    .dataframe thead th {\n",
              "        text-align: right;\n",
              "    }\n",
              "</style>\n",
              "<table border=\"1\" class=\"dataframe\">\n",
              "  <thead>\n",
              "    <tr style=\"text-align: right;\">\n",
              "      <th>txt_emo_senti</th>\n",
              "      <th>negative</th>\n",
              "      <th>positive</th>\n",
              "    </tr>\n",
              "    <tr>\n",
              "      <th>text_senti</th>\n",
              "      <th></th>\n",
              "      <th></th>\n",
              "    </tr>\n",
              "  </thead>\n",
              "  <tbody>\n",
              "    <tr>\n",
              "      <th>negative</th>\n",
              "      <td>194</td>\n",
              "      <td>64</td>\n",
              "    </tr>\n",
              "    <tr>\n",
              "      <th>positive</th>\n",
              "      <td>93</td>\n",
              "      <td>648</td>\n",
              "    </tr>\n",
              "  </tbody>\n",
              "</table>\n",
              "</div>\n",
              "      <button class=\"colab-df-convert\" onclick=\"convertToInteractive('df-a8c0e1e9-72ae-4302-b70b-adbcdd25582a')\"\n",
              "              title=\"Convert this dataframe to an interactive table.\"\n",
              "              style=\"display:none;\">\n",
              "        \n",
              "  <svg xmlns=\"http://www.w3.org/2000/svg\" height=\"24px\"viewBox=\"0 0 24 24\"\n",
              "       width=\"24px\">\n",
              "    <path d=\"M0 0h24v24H0V0z\" fill=\"none\"/>\n",
              "    <path d=\"M18.56 5.44l.94 2.06.94-2.06 2.06-.94-2.06-.94-.94-2.06-.94 2.06-2.06.94zm-11 1L8.5 8.5l.94-2.06 2.06-.94-2.06-.94L8.5 2.5l-.94 2.06-2.06.94zm10 10l.94 2.06.94-2.06 2.06-.94-2.06-.94-.94-2.06-.94 2.06-2.06.94z\"/><path d=\"M17.41 7.96l-1.37-1.37c-.4-.4-.92-.59-1.43-.59-.52 0-1.04.2-1.43.59L10.3 9.45l-7.72 7.72c-.78.78-.78 2.05 0 2.83L4 21.41c.39.39.9.59 1.41.59.51 0 1.02-.2 1.41-.59l7.78-7.78 2.81-2.81c.8-.78.8-2.07 0-2.86zM5.41 20L4 18.59l7.72-7.72 1.47 1.35L5.41 20z\"/>\n",
              "  </svg>\n",
              "      </button>\n",
              "      \n",
              "  <style>\n",
              "    .colab-df-container {\n",
              "      display:flex;\n",
              "      flex-wrap:wrap;\n",
              "      gap: 12px;\n",
              "    }\n",
              "\n",
              "    .colab-df-convert {\n",
              "      background-color: #E8F0FE;\n",
              "      border: none;\n",
              "      border-radius: 50%;\n",
              "      cursor: pointer;\n",
              "      display: none;\n",
              "      fill: #1967D2;\n",
              "      height: 32px;\n",
              "      padding: 0 0 0 0;\n",
              "      width: 32px;\n",
              "    }\n",
              "\n",
              "    .colab-df-convert:hover {\n",
              "      background-color: #E2EBFA;\n",
              "      box-shadow: 0px 1px 2px rgba(60, 64, 67, 0.3), 0px 1px 3px 1px rgba(60, 64, 67, 0.15);\n",
              "      fill: #174EA6;\n",
              "    }\n",
              "\n",
              "    [theme=dark] .colab-df-convert {\n",
              "      background-color: #3B4455;\n",
              "      fill: #D2E3FC;\n",
              "    }\n",
              "\n",
              "    [theme=dark] .colab-df-convert:hover {\n",
              "      background-color: #434B5C;\n",
              "      box-shadow: 0px 1px 3px 1px rgba(0, 0, 0, 0.15);\n",
              "      filter: drop-shadow(0px 1px 2px rgba(0, 0, 0, 0.3));\n",
              "      fill: #FFFFFF;\n",
              "    }\n",
              "  </style>\n",
              "\n",
              "      <script>\n",
              "        const buttonEl =\n",
              "          document.querySelector('#df-a8c0e1e9-72ae-4302-b70b-adbcdd25582a button.colab-df-convert');\n",
              "        buttonEl.style.display =\n",
              "          google.colab.kernel.accessAllowed ? 'block' : 'none';\n",
              "\n",
              "        async function convertToInteractive(key) {\n",
              "          const element = document.querySelector('#df-a8c0e1e9-72ae-4302-b70b-adbcdd25582a');\n",
              "          const dataTable =\n",
              "            await google.colab.kernel.invokeFunction('convertToInteractive',\n",
              "                                                     [key], {});\n",
              "          if (!dataTable) return;\n",
              "\n",
              "          const docLinkHtml = 'Like what you see? Visit the ' +\n",
              "            '<a target=\"_blank\" href=https://colab.research.google.com/notebooks/data_table.ipynb>data table notebook</a>'\n",
              "            + ' to learn more about interactive tables.';\n",
              "          element.innerHTML = '';\n",
              "          dataTable['output_type'] = 'display_data';\n",
              "          await google.colab.output.renderOutput(dataTable, element);\n",
              "          const docLink = document.createElement('div');\n",
              "          docLink.innerHTML = docLinkHtml;\n",
              "          element.appendChild(docLink);\n",
              "        }\n",
              "      </script>\n",
              "    </div>\n",
              "  </div>\n",
              "  "
            ],
            "text/plain": [
              "txt_emo_senti  negative  positive\n",
              "text_senti                       \n",
              "negative            194        64\n",
              "positive             93       648"
            ]
          },
          "execution_count": 58,
          "metadata": {},
          "output_type": "execute_result"
        }
      ],
      "source": [
        "## 回答範例 Contingency Table \n",
        "# 此處只顯示(text_senti, txt_emo_senti)這組的結果\n",
        "# ❗️❗️❗️❗️❗️❗️總共要輸出 3 組❗️❗️❗️❗️❗️❗️"
      ]
    },
    {
      "cell_type": "markdown",
      "source": [
        "\n",
        "\n",
        "---\n",
        "\n"
      ],
      "metadata": {
        "id": "9DH9hHDmqBGo"
      }
    },
    {
      "cell_type": "markdown",
      "metadata": {
        "id": "PRKDTu6OVQ6D"
      },
      "source": [
        "# 第三部分：衝突 emoji 詞頻"
      ]
    },
    {
      "cell_type": "markdown",
      "metadata": {
        "id": "63MysNwlJaaC"
      },
      "source": [
        "請你找出 `emoji_senti` 和 `txt_emo_senti` 兩個欄位被標成不同情緒的 text 們，並計算出現在這些 text 中的 emoji 的頻率。\n",
        "\n",
        "**最後用 DataFrame 列出最高頻的 10 個 emoji**\n",
        "\n",
        "\n",
        "\n",
        "```\n",
        "🔔 會用到的欄位: emo_only, emoji_senti, txt_emo_senti\n",
        "\n",
        "🔴 注意：若同個 text 中有多個 emoji，請將這些 emoji 分次都算進去 🔴 \n",
        "舉例來說， \n",
        "有一個 row 是 \"推坑大家🐹🐹\"\n",
        "他的 [emoji_senti] 是 positive、[txt_emo_senti] 是 negative\n",
        "所以這一筆 text 是符合我們要求的。\n",
        "\n",
        "由於他的 [emo_only] 欄位是 \"倉鼠,倉鼠\"\n",
        "計算頻率時 “倉鼠” 要被算到兩次。(而不是一次)\n",
        "```\n",
        "\n",
        "> 配分方式：20% (每一個emoji2%)"
      ]
    },
    {
      "cell_type": "markdown",
      "source": [
        "# BONUS (10分）\n",
        "\n",
        "試著提出一個可行的pipeline（不需寫出真實code 但也不要是空泛的概念）\n",
        "\n",
        "這個 pipeline要抓出「以emoji造成諷刺效果」的句子，\n",
        "\n",
        "也就是句子要保留emoji、必須辨識出哪些句子存在諷刺\n",
        "\n",
        "(e.g., \"我覺得他們做得很好欸🤗\", \"哇真厲害🙄\"）\n",
        "\n",
        "> 也可以使用 chatGPT，說不定他能提供非常有用的意見喔😇😇😇\n"
      ],
      "metadata": {
        "id": "yZejihD3dhrc"
      }
    }
  ],
  "metadata": {
    "colab": {
      "provenance": []
    },
    "gpuClass": "standard",
    "kernelspec": {
      "display_name": "Python 3",
      "name": "python3"
    },
    "language_info": {
      "codemirror_mode": {
        "name": "ipython",
        "version": 3
      },
      "file_extension": ".py",
      "mimetype": "text/x-python",
      "name": "python",
      "nbconvert_exporter": "python",
      "pygments_lexer": "ipython3",
      "version": "3.9.12"
    }
  },
  "nbformat": 4,
  "nbformat_minor": 0
}